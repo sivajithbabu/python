{
  "nbformat": 4,
  "nbformat_minor": 0,
  "metadata": {
    "colab": {
      "provenance": []
    },
    "kernelspec": {
      "name": "python3",
      "display_name": "Python 3"
    },
    "language_info": {
      "name": "python"
    }
  },
  "cells": [
    {
      "cell_type": "code",
      "execution_count": null,
      "metadata": {
        "colab": {
          "base_uri": "https://localhost:8080/"
        },
        "id": "8HcnrccSyE7e",
        "outputId": "789a8028-31fd-4ad1-fe2d-fe85f43bc86e"
      },
      "outputs": [
        {
          "output_type": "stream",
          "name": "stdout",
          "text": [
            "Enter a number between 1 and 10: 6\n",
            "Guess a number between 1 and 10: 5\n",
            "Too low! Try again.\n",
            "Guess a number between 1 and 10: 6\n",
            "Congratulations! You guessed the number correctly!\n"
          ]
        }
      ],
      "source": [
        "'''1. Write an interactive Python Program to implement following “Guess Game”\n",
        "i. Think of a number between 1 and 10 and store it in a variable called\n",
        "\"secretNumber\".\n",
        "ii. Ask the user to enter a number between 1 and 10 and store it in a variable called\n",
        "\"guess\".\n",
        "iii. Use control statements (if-else) to check if the guess is correct, higher, or lower\n",
        "than the secret number.\n",
        "iv. Display appropriate messages to the user based on their guess:\n",
        "• If the guess is correct, display \"Congratulations! You guessed the number\n",
        "correctly!\"\n",
        "• If the guess is higher than the secret number, display \"Too high! Try\n",
        "again.\"\n",
        "• If the guess is lower than the secret number, display \"Too low! Try again.\"\n",
        "v. Allow the user to keep guessing until they guess the correct number.'''\n",
        "\n",
        "secretNumber= int(input(\"Enter a number between 1 and 10: \"))\n",
        "while True:\n",
        "    guess = int(input(\"Guess a number between 1 and 10: \"))\n",
        "    if guess == secretNumber:\n",
        "        print(\"Congratulations! You guessed the number correctly!\")\n",
        "        break\n",
        "    elif guess > secretNumber:\n",
        "        print(\"Too high! Try again.\")\n",
        "    elif guess < secretNumber:\n",
        "        print(\"Too low! Try again.\")"
      ]
    },
    {
      "cell_type": "code",
      "source": [
        "while True:\n",
        "        user_input = int(input(\"Enter a positive integer: \"))\n",
        "        if user_input > 0:\n",
        "            factorial = 1\n",
        "            for i in range(1, user_input + 1):\n",
        "                factorial *= i\n",
        "            print(\"The factorial is:\",factorial)\n",
        "            break\n",
        "        else:\n",
        "            print(\"Please enter a positive integer.\")"
      ],
      "metadata": {
        "id": "-9JdWxxy3_n4",
        "colab": {
          "base_uri": "https://localhost:8080/"
        },
        "outputId": "f38d2fcc-2f9f-484e-811a-5e1feee3a6ff"
      },
      "execution_count": 4,
      "outputs": [
        {
          "output_type": "stream",
          "name": "stdout",
          "text": [
            "Enter a positive integer: 5\n",
            "The factorial is: 120\n"
          ]
        }
      ]
    },
    {
      "cell_type": "code",
      "source": [
        "L = int(input(\"Enter the minimum dimension L: \"))\n",
        "N = int(input(\"Enter the number of photos N: \"))\n",
        "\n",
        "for i in range(N):\n",
        "    W = int(input(\"Enter Width W: \"))\n",
        "    H = int(input(\"Enter Height H: \"))\n",
        "\n",
        "    if W < L or H < L:\n",
        "        print(\"UPLOAD ANOTHER\")\n",
        "    elif W == H:\n",
        "        print(\"ACCEPTED\")\n",
        "    else:\n",
        "        print(\"CROP IT\")"
      ],
      "metadata": {
        "colab": {
          "base_uri": "https://localhost:8080/"
        },
        "id": "LgeLtbgE9bgS",
        "outputId": "dc01082d-93d4-4a4b-f34a-43e254f9f228"
      },
      "execution_count": 6,
      "outputs": [
        {
          "output_type": "stream",
          "name": "stdout",
          "text": [
            "Enter the minimum dimension L: 5\n",
            "Enter the number of photos N: 2\n",
            "Enter Width W: 5\n",
            "Enter Height H: 5\n",
            "ACCEPTED\n",
            "Enter Width W: 6\n",
            "Enter Height H: 4\n",
            "UPLOAD ANOTHER\n"
          ]
        }
      ]
    }
  ]
}