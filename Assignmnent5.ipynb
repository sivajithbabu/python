{
  "nbformat": 4,
  "nbformat_minor": 0,
  "metadata": {
    "colab": {
      "provenance": []
    },
    "kernelspec": {
      "name": "python3",
      "display_name": "Python 3"
    },
    "language_info": {
      "name": "python"
    }
  },
  "cells": [
    {
      "cell_type": "code",
      "execution_count": 3,
      "metadata": {
        "colab": {
          "base_uri": "https://localhost:8080/"
        },
        "id": "T63fancPm16C",
        "outputId": "2517e02e-1e49-4319-b5d7-181b63d847b4"
      },
      "outputs": [
        {
          "output_type": "stream",
          "name": "stdout",
          "text": [
            "middle value is: 2\n",
            "middle value is: 8\n",
            "middle value is: 7\n",
            "middle value is: -3\n",
            "middle value is: 75\n"
          ]
        }
      ],
      "source": [
        "def middle(num1, num2, num3):\n",
        "\n",
        "    numbers = [num1, num2, num3]\n",
        "\n",
        "    numbers.sort()\n",
        "    return numbers[1]\n",
        "\n",
        "test = [\n",
        "    (1, 2, 3),\n",
        "    (10, 5, 8),\n",
        "    (7, 7, 7),\n",
        "    (-1, -5, -3),\n",
        "    (100, 50, 75)\n",
        "]\n",
        "for i in test:\n",
        "    num1, num2, num3 = i\n",
        "    result = middle(num1, num2, num3)\n",
        "    print(\"middle value is:\",result)"
      ]
    },
    {
      "cell_type": "code",
      "source": [
        "def add(x, y):\n",
        "    return x + y\n",
        "\n",
        "def subtract(x, y):\n",
        "    return x - y\n",
        "\n",
        "def multiply(x, y):\n",
        "    return x * y\n",
        "\n",
        "def divide(x, y):\n",
        "    if y != 0:\n",
        "        return x / y\n",
        "    else:\n",
        "        return \"Error: Division by zero\"\n",
        "\n",
        "def get_user_input():\n",
        "    print(\"Select operation:\")\n",
        "    print(\"1. Add\")\n",
        "    print(\"2. Subtract\")\n",
        "    print(\"3. Multiply\")\n",
        "    print(\"4. Divide\")\n",
        "    print(\"5. Exit\")\n",
        "\n",
        "    choice = input(\"Enter choice (1/2/3/4/5): \")\n",
        "    return choice\n",
        "\n",
        "while True:\n",
        "    choice = get_user_input()\n",
        "\n",
        "    if choice == '5':\n",
        "        print(\"Calculator closed.\")\n",
        "        break\n",
        "\n",
        "    if choice in ('1', '2', '3', '4'):\n",
        "        num1 = float(input(\"Enter first number: \"))\n",
        "        num2 = float(input(\"Enter second number: \"))\n",
        "\n",
        "        if choice == '1':\n",
        "            print(f\"{num1} + {num2} = {add(num1, num2)}\")\n",
        "\n",
        "        elif choice == '2':\n",
        "            print(f\"{num1} - {num2} = {subtract(num1, num2)}\")\n",
        "\n",
        "        elif choice == '3':\n",
        "            print(f\"{num1} * {num2} = {multiply(num1, num2)}\")\n",
        "\n",
        "        elif choice == '4':\n",
        "            result = divide(num1, num2)\n",
        "            print(f\"{num1} / {num2} = {result}\")\n",
        "\n",
        "    else:\n",
        "        print(\"Invalid input.\")"
      ],
      "metadata": {
        "colab": {
          "base_uri": "https://localhost:8080/"
        },
        "id": "OZvEc4cZqLpG",
        "outputId": "1e16ee3a-9b84-43e3-e01f-fd499d85f08f"
      },
      "execution_count": 11,
      "outputs": [
        {
          "output_type": "stream",
          "name": "stdout",
          "text": [
            "Select operation:\n",
            "1. Add\n",
            "2. Subtract\n",
            "3. Multiply\n",
            "4. Divide\n",
            "5. Exit\n",
            "Enter choice (1/2/3/4/5): 3\n",
            "Enter first number: 2\n",
            "Enter second number: 3\n",
            "2.0 * 3.0 = 6.0\n",
            "Select operation:\n",
            "1. Add\n",
            "2. Subtract\n",
            "3. Multiply\n",
            "4. Divide\n",
            "5. Exit\n",
            "Enter choice (1/2/3/4/5): 5\n",
            "Calculator closed.\n"
          ]
        }
      ]
    },
    {
      "cell_type": "code",
      "source": [
        "import math\n",
        "\n",
        "def calculate_hypotenuse(a, b):\n",
        "    a_squared = a ** 2\n",
        "    b_squared = b ** 2\n",
        "\n",
        "    sum_of_squares = a_squared + b_squared\n",
        "    hypotenuse = math.sqrt(sum_of_squares)\n",
        "\n",
        "    return hypotenuse\n",
        "side_a = 5\n",
        "side_b = 12\n",
        "result = calculate_hypotenuse(side_a, side_b)\n",
        "print(f\"The hypotenuse of the right triangle is\",result)"
      ],
      "metadata": {
        "colab": {
          "base_uri": "https://localhost:8080/"
        },
        "id": "Ol3LlnxAqvyj",
        "outputId": "04add90a-78c1-4190-c401-28632dd4fe99"
      },
      "execution_count": 12,
      "outputs": [
        {
          "output_type": "stream",
          "name": "stdout",
          "text": [
            "The hypotenuse of the right triangle is 13.0\n"
          ]
        }
      ]
    },
    {
      "cell_type": "code",
      "source": [
        "class Rectangle:\n",
        "    def __init__(self, length, width):\n",
        "        self.length = length\n",
        "        self.width = width\n",
        "\n",
        "    def perimeter(self):\n",
        "        return 2 * (self.length + self.width)\n",
        "\n",
        "    def area(self):\n",
        "        return self.length * self.width\n",
        "\n",
        "    def display(self):\n",
        "        print(f\"Length: {self.length}\")\n",
        "        print(f\"Width: {self.width}\")\n",
        "        print(f\"Perimeter: {self.perimeter()}\")\n",
        "        print(f\"Area: {self.area()}\")\n",
        "\n",
        "\n",
        "my_rectangle = Rectangle(5, 4)\n",
        "\n",
        "my_rectangle.display()"
      ],
      "metadata": {
        "colab": {
          "base_uri": "https://localhost:8080/"
        },
        "id": "ihcVvambsjiS",
        "outputId": "d37def1b-d109-4f9c-a5ca-69579f2cb34f"
      },
      "execution_count": 17,
      "outputs": [
        {
          "output_type": "stream",
          "name": "stdout",
          "text": [
            "Length: 5\n",
            "Width: 4\n",
            "Perimeter: 18\n",
            "Area: 20\n"
          ]
        }
      ]
    },
    {
      "cell_type": "code",
      "source": [
        "class BankAccount:\n",
        "    def __init__(self, accountNumber, name, balance):\n",
        "        self.accountNumber = accountNumber\n",
        "        self.name = name\n",
        "        self.balance = balance\n",
        "\n",
        "    def deposit(self, amount):\n",
        "        if amount > 0:\n",
        "            self.balance += amount\n",
        "            print(f\"Deposit of {amount} successful. New balance: {self.balance}\")\n",
        "        else:\n",
        "            print(\"Invalid deposit amount. Please enter a positive value.\")\n",
        "\n",
        "    def withdrawal(self, amount):\n",
        "        if 0 < amount <= self.balance:\n",
        "            self.balance -= amount\n",
        "            print(f\"Withdrawal of {amount} successful. New balance: {self.balance}\")\n",
        "        else:\n",
        "            print(\"Invalid withdrawal amount or insufficient funds.\")\n",
        "\n",
        "    def bank_fees(self):\n",
        "        fee_percentage = 0.05\n",
        "        fee_amount = self.balance * fee_percentage\n",
        "        self.balance -= fee_amount\n",
        "        print(f\"Bank fees (5%): {fee_amount}. New balance: {self.balance}\")\n",
        "\n",
        "    def display(self):\n",
        "        print(\"Account Details:\")\n",
        "        print(f\"Account Number: {self.accountNumber}\")\n",
        "        print(f\"Account Owner: {self.name}\")\n",
        "        print(f\"Balance: {self.balance}\")\n",
        "\n",
        "account1 = BankAccount(accountNumber=123456, name=\"chris\", balance=15000)\n",
        "\n",
        "account1.display()\n",
        "\n",
        "account1.deposit(5000)\n",
        "\n",
        "account1.withdrawal(2000)\n",
        "\n",
        "account1.bank_fees()\n",
        "\n",
        "account1.display()"
      ],
      "metadata": {
        "colab": {
          "base_uri": "https://localhost:8080/"
        },
        "id": "Xy5bA1rvstGl",
        "outputId": "cbde9f84-4d7e-4145-e76c-5889752fc5a6"
      },
      "execution_count": 20,
      "outputs": [
        {
          "output_type": "stream",
          "name": "stdout",
          "text": [
            "Account Details:\n",
            "Account Number: 123456\n",
            "Account Owner: chris\n",
            "Balance: 15000\n",
            "Deposit of 5000 successful. New balance: 20000\n",
            "Withdrawal of 2000 successful. New balance: 18000\n",
            "Bank fees (5%): 900.0. New balance: 17100.0\n",
            "Account Details:\n",
            "Account Number: 123456\n",
            "Account Owner: chris\n",
            "Balance: 17100.0\n"
          ]
        }
      ]
    }
  ]
}