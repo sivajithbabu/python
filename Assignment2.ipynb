{
  "nbformat": 4,
  "nbformat_minor": 0,
  "metadata": {
    "colab": {
      "provenance": []
    },
    "kernelspec": {
      "name": "python3",
      "display_name": "Python 3"
    },
    "language_info": {
      "name": "python"
    }
  },
  "cells": [
    {
      "cell_type": "code",
      "execution_count": null,
      "metadata": {
        "colab": {
          "base_uri": "https://localhost:8080/"
        },
        "id": "vIzj2ZMomkvT",
        "outputId": "c7cf1959-f249-4ce9-a2b0-8c577affdb31"
      },
      "outputs": [
        {
          "output_type": "stream",
          "name": "stdout",
          "text": [
            "The sum of the list is: 54\n"
          ]
        }
      ],
      "source": [
        "#Write a program to find sum of all elements in a list of integers\n",
        "list = [12,13,14,15]\n",
        "sum=0\n",
        "for i in list:\n",
        "  sum = sum + i\n",
        "print(\"The sum of the list is:\",sum)"
      ]
    },
    {
      "cell_type": "code",
      "source": [
        "'''Input a sentence as a string.\n",
        "a) Print its length\n",
        "b) Print the first half of string'''\n",
        "\n",
        "string = input(\"Enter the string\")\n",
        "l=len(string)\n",
        "print(\"Length of string is:\",l)\n",
        "h=l//2\n",
        "print(string[0:h])"
      ],
      "metadata": {
        "colab": {
          "base_uri": "https://localhost:8080/"
        },
        "id": "BP3CDdjjoFfi",
        "outputId": "b9b8fd2e-2f3c-498b-9160-ebd9c84ca2ad"
      },
      "execution_count": null,
      "outputs": [
        {
          "output_type": "stream",
          "name": "stdout",
          "text": [
            "Enter the stringGOOD MORNING\n",
            "Length of string is: 12\n",
            "GOOD M\n"
          ]
        }
      ]
    },
    {
      "cell_type": "code",
      "source": [
        "#Write a program to enter a tuple of integers as\n",
        "(78,45,32,19,82,77,40,39). Change the third value in the tuple to\n",
        "100\n",
        "a=(78,45,32,19,82,77,40,39)\n",
        "print(a)\n",
        "l=[i for i in a]\n",
        "l[2]=100\n",
        "print(l)"
      ],
      "metadata": {
        "colab": {
          "base_uri": "https://localhost:8080/"
        },
        "id": "OMHxg628vmM_",
        "outputId": "3773858a-1961-4414-f100-f99b2cc24c1c"
      },
      "execution_count": null,
      "outputs": [
        {
          "output_type": "stream",
          "name": "stdout",
          "text": [
            "(78, 45, 32, 19, 82, 77, 40, 39)\n",
            "[78, 45, 100, 19, 82, 77, 40, 39]\n"
          ]
        }
      ]
    },
    {
      "cell_type": "code",
      "source": [
        "'''Consider a list listA=[19,32,10,55,31,32,94,29,10,65,77,40,40]\n",
        "(a) Delete the first occurrence of 32\n",
        "(b) Delete all occurrences of 40\n",
        "(c) Delete the value at index=5\n",
        "(d) Modify the value at index=9 as 300\n",
        "(e) Add 200 at index=2\n",
        "(f) Print the final list with its length, maximum value\n",
        "and sum of all elements'''\n",
        "\n",
        "listA=[19,32,10,55,31,32,94,29,10,65,77,40,40]\n",
        "listA.remove(32)\n",
        "print(listA)"
      ],
      "metadata": {
        "colab": {
          "base_uri": "https://localhost:8080/"
        },
        "id": "kRaNKEjWphR0",
        "outputId": "5687d875-598c-44b9-e6e9-aec68e8c149d"
      },
      "execution_count": null,
      "outputs": [
        {
          "output_type": "stream",
          "name": "stdout",
          "text": [
            "[19, 10, 55, 31, 32, 94, 29, 10, 65, 77, 40, 40]\n"
          ]
        }
      ]
    },
    {
      "cell_type": "code",
      "source": [
        "listA=[19,32,10,55,31,40,40,32,94,29,10,65,77]\n",
        "print(listA.count(40))\n",
        "\n"
      ],
      "metadata": {
        "colab": {
          "base_uri": "https://localhost:8080/"
        },
        "id": "_9LhE1DarNeF",
        "outputId": "de4a5ebd-93fd-4686-b29a-79d19c9ad256"
      },
      "execution_count": null,
      "outputs": [
        {
          "output_type": "stream",
          "name": "stdout",
          "text": [
            "2\n"
          ]
        }
      ]
    },
    {
      "cell_type": "code",
      "source": [
        "listA.remove(40)\n",
        "listA.remove(40)\n",
        "print(listA)"
      ],
      "metadata": {
        "colab": {
          "base_uri": "https://localhost:8080/"
        },
        "id": "kfC5w4ZI0oy8",
        "outputId": "e904e690-64a5-4c51-8049-e82e53fb4820"
      },
      "execution_count": null,
      "outputs": [
        {
          "output_type": "stream",
          "name": "stdout",
          "text": [
            "[19, 32, 10, 55, 31, 32, 94, 29, 10, 65, 77]\n"
          ]
        }
      ]
    },
    {
      "cell_type": "code",
      "source": [
        "listA.pop(5)\n",
        "print(listA)\n"
      ],
      "metadata": {
        "colab": {
          "base_uri": "https://localhost:8080/"
        },
        "id": "rLwVTcHk3hmx",
        "outputId": "6fc81ca4-6319-4654-80b9-3270a9c12dbb"
      },
      "execution_count": null,
      "outputs": [
        {
          "output_type": "stream",
          "name": "stdout",
          "text": [
            "[19, 32, 10, 55, 31, 94, 29, 10, 65, 77]\n"
          ]
        }
      ]
    },
    {
      "cell_type": "code",
      "source": [
        "listA[9]=300\n",
        "print(listA)"
      ],
      "metadata": {
        "colab": {
          "base_uri": "https://localhost:8080/"
        },
        "id": "yLje6J7O4ezB",
        "outputId": "d6865289-7e5a-4cae-ab27-53f8ccae8040"
      },
      "execution_count": null,
      "outputs": [
        {
          "output_type": "stream",
          "name": "stdout",
          "text": [
            "[19, 32, 10, 55, 31, 94, 29, 10, 65, 300]\n"
          ]
        }
      ]
    },
    {
      "cell_type": "code",
      "source": [
        "listA[2]=listA[2] + 200\n",
        "print(listA)"
      ],
      "metadata": {
        "colab": {
          "base_uri": "https://localhost:8080/"
        },
        "id": "r2rCYzqX5Dy4",
        "outputId": "98969a9b-563e-4645-9e53-b26b24a05c2c"
      },
      "execution_count": null,
      "outputs": [
        {
          "output_type": "stream",
          "name": "stdout",
          "text": [
            "[19, 32, 210, 55, 31, 94, 29, 10, 65, 300]\n"
          ]
        }
      ]
    },
    {
      "cell_type": "code",
      "source": [
        "print(len(listA))\n",
        "print(max(listA))\n",
        "sum=0\n",
        "for i in listA:\n",
        " sum = sum + i\n",
        "print(\"Sum of the final list is:\",sum)"
      ],
      "metadata": {
        "colab": {
          "base_uri": "https://localhost:8080/"
        },
        "id": "f2lhjfC_5Pat",
        "outputId": "4daa0734-dc98-4066-b02e-df4489fd8a3a"
      },
      "execution_count": null,
      "outputs": [
        {
          "output_type": "stream",
          "name": "stdout",
          "text": [
            "10\n",
            "300\n",
            "Sum of the final list is: 845\n"
          ]
        }
      ]
    },
    {
      "cell_type": "code",
      "source": [
        "'''Consider a string ”The day has been long”.\n",
        "(a) Delete the value at index =4\n",
        "(b) Print the string 4 times in a single line with space\n",
        "between each repetition\n",
        "(c) Print the string 3 times in a new line each time\n",
        "(d) Modify the string at index 7 as ’A’\n",
        "(e) Print the string from index 4 to 15\n",
        "(f) Print the final string with its length'''\n",
        "\n",
        "str =  'The day has been long'\n",
        "new_str = str[:4]+str[5:]\n",
        "print(new_str)"
      ],
      "metadata": {
        "colab": {
          "base_uri": "https://localhost:8080/"
        },
        "id": "MBgGC1GuUzP0",
        "outputId": "21e0ffad-5076-49c5-d503-a80dcb5ca58e"
      },
      "execution_count": 12,
      "outputs": [
        {
          "output_type": "stream",
          "name": "stdout",
          "text": [
            "The ay has been long\n"
          ]
        }
      ]
    },
    {
      "cell_type": "code",
      "source": [
        "new_str=str*4\n",
        "print(new_str)"
      ],
      "metadata": {
        "colab": {
          "base_uri": "https://localhost:8080/"
        },
        "id": "y48oWMYbXRUg",
        "outputId": "88326ee7-48da-4d0e-e1ee-8fc60113380e"
      },
      "execution_count": 11,
      "outputs": [
        {
          "output_type": "stream",
          "name": "stdout",
          "text": [
            "The day has been longThe day has been longThe day has been longThe day has been long\n"
          ]
        }
      ]
    },
    {
      "cell_type": "code",
      "source": [
        "new_str = (str + '\\n')*3\n",
        "print(new_str)"
      ],
      "metadata": {
        "colab": {
          "base_uri": "https://localhost:8080/"
        },
        "id": "ajEdjy5qXlkO",
        "outputId": "c5fb2715-3a78-4b53-f5b8-0d5238de350e"
      },
      "execution_count": 14,
      "outputs": [
        {
          "output_type": "stream",
          "name": "stdout",
          "text": [
            "The day has been long\n",
            "The day has been long\n",
            "The day has been long\n",
            "\n"
          ]
        }
      ]
    },
    {
      "cell_type": "code",
      "source": [
        "new_str= str[:7] + 'A' + str[8:]\n",
        "print(new_str)"
      ],
      "metadata": {
        "colab": {
          "base_uri": "https://localhost:8080/"
        },
        "id": "n6fB8Ba-Xz0l",
        "outputId": "0e782177-773e-4111-c272-57922ef05eae"
      },
      "execution_count": 16,
      "outputs": [
        {
          "output_type": "stream",
          "name": "stdout",
          "text": [
            "The dayAhas been long\n"
          ]
        }
      ]
    },
    {
      "cell_type": "code",
      "source": [
        "new=str[4:16]\n",
        "print(new)"
      ],
      "metadata": {
        "colab": {
          "base_uri": "https://localhost:8080/"
        },
        "id": "3AguSDD8YP-K",
        "outputId": "70ef512c-1e1d-4130-de87-35945883f400"
      },
      "execution_count": 18,
      "outputs": [
        {
          "output_type": "stream",
          "name": "stdout",
          "text": [
            "day has been\n"
          ]
        }
      ]
    },
    {
      "cell_type": "code",
      "source": [
        "final_str=str\n",
        "length=len(final_str)\n",
        "print(\"length is:\",length)\n",
        "length2=len(new)\n",
        "print(\"length of modified string:\",length2)"
      ],
      "metadata": {
        "colab": {
          "base_uri": "https://localhost:8080/"
        },
        "id": "A2mbMUfhYvJQ",
        "outputId": "59af7816-5274-45c3-eb28-43426e399620"
      },
      "execution_count": 21,
      "outputs": [
        {
          "output_type": "stream",
          "name": "stdout",
          "text": [
            "length is: 21\n",
            "length of modified string: 12\n"
          ]
        }
      ]
    }
  ]
}