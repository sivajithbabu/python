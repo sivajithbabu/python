{
  "nbformat": 4,
  "nbformat_minor": 0,
  "metadata": {
    "colab": {
      "provenance": []
    },
    "kernelspec": {
      "name": "python3",
      "display_name": "Python 3"
    },
    "language_info": {
      "name": "python"
    }
  },
  "cells": [
    {
      "cell_type": "code",
      "execution_count": 1,
      "metadata": {
        "colab": {
          "base_uri": "https://localhost:8080/"
        },
        "id": "FJBDmMS7qPFt",
        "outputId": "553b4329-c967-41c0-b648-055868cecc1c"
      },
      "outputs": [
        {
          "output_type": "stream",
          "name": "stdout",
          "text": [
            "RUNNERS UP SCORE IS: 5\n"
          ]
        }
      ],
      "source": [
        "'''Given the participants' score sheet for your University Sports Day, you are required to\n",
        "find the runner-up score. You are given scores. Store them in a list and find the score of\n",
        "the runner-up'''\n",
        "my_list=[1,2,3,4,5,6]\n",
        "maximum=max(my_list)\n",
        "my_list.remove(maximum)\n",
        "print(\"RUNNERS UP SCORE IS:\",max(my_list))"
      ]
    },
    {
      "cell_type": "code",
      "source": [
        "'''A dictionary is given D={‘John’ [25,32,43],’Peter’:[87,55,96],’Ram’:[58,55,43],’Meena’:[63,79,85]}\n",
        "Get a name from user if the name in the dictionary change the values corresponding to\n",
        "that user to [88,77,99] and print the dictionary. Else print ‘Name not found’.'''\n",
        "\n",
        "D = {'John': [25, 32, 43], 'Peter': [87, 55, 96], 'Ram': [58, 55, 43], 'Meena': [63, 79, 85]}\n",
        "\n",
        "name = input(\"Enter a name to update values: \")\n",
        "\n",
        "if name in D:\n",
        "\n",
        "    D[name] = [88, 77, 99]\n",
        "    print(\"Values updated :\", name)\n",
        "    print(\"Updated Dictionary:\", D)\n",
        "else:\n",
        "    print(\"Name not found in the dictionary.\")"
      ],
      "metadata": {
        "colab": {
          "base_uri": "https://localhost:8080/"
        },
        "id": "hMvKoP50tKNY",
        "outputId": "37477657-aa40-4ec6-8a5b-2477cbd29e60"
      },
      "execution_count": 3,
      "outputs": [
        {
          "output_type": "stream",
          "name": "stdout",
          "text": [
            "Enter a name to update values: Peter\n",
            "Values updated : Peter\n",
            "Updated Dictionary: {'John': [25, 32, 43], 'Peter': [88, 77, 99], 'Ram': [58, 55, 43], 'Meena': [63, 79, 85]}\n"
          ]
        }
      ]
    },
    {
      "cell_type": "code",
      "source": [
        "'''Ticket Price Calculator:\n",
        "I. Ask the user to enter their age.\n",
        "II. Use control statements (if-elif-else) to calculate the ticket price based on the\n",
        "following conditions:\n",
        "a. If the age is below 5, the ticket price is free.\n",
        "b. If the age is between 5 and 12 (inclusive), the ticket price is Rs.10.\n",
        "c. If the age is above 12, the ticket price is Rs.50.\n",
        "d. If the age is above 60, the ticket price is free.\n",
        "e. If the gender is female, the ticket price is 50% of the applicable rates.\n",
        "III. Display the ticket price to the user'''\n",
        "\n",
        "age = int(input(\"Enter your age: \"))\n",
        "gender = input(\"Enter your gender (male/female): \").lower()\n",
        "\n",
        "ticket_price = 0\n",
        "if age < 5 or age > 60:\n",
        "    ticket_price = 0\n",
        "elif 5 <= age <= 12:\n",
        "    ticket_price = 10\n",
        "else:\n",
        "    ticket_price = 50\n",
        "if gender == 'female':\n",
        "    ticket_price =ticket_price* 0.5\n",
        "print(\"Ticket Price: Rs.\", ticket_price)"
      ],
      "metadata": {
        "colab": {
          "base_uri": "https://localhost:8080/"
        },
        "id": "Thw_soIzuObX",
        "outputId": "2ff7fdf1-b379-4052-bb10-f7ae646dbc5f"
      },
      "execution_count": 4,
      "outputs": [
        {
          "output_type": "stream",
          "name": "stdout",
          "text": [
            "Enter your age: 45\n",
            "Enter your gender (male/female): female\n",
            "Ticket Price: Rs. 25.0\n"
          ]
        }
      ]
    }
  ]
}